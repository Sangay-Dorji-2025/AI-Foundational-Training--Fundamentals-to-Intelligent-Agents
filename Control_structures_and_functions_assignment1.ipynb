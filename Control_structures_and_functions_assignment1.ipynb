{
  "nbformat": 4,
  "nbformat_minor": 0,
  "metadata": {
    "colab": {
      "provenance": []
    },
    "kernelspec": {
      "name": "python3",
      "display_name": "Python 3"
    },
    "language_info": {
      "name": "python"
    }
  },
  "cells": [
    {
      "cell_type": "markdown",
      "source": [
        "Assignment 1: Cinema give discounts based on age\n",
        "\n",
        "\n",
        "*   Children below 12 years pay 300\n",
        "*   Teens between 12 to 17 pay 500\n",
        "*   Adult 18 to 59 pay 800\n",
        "*   Seniors (60+) pays 400\n",
        "Write a python program that:\n",
        "1. Ask the user to enter their age\n",
        "2. use an if statement to decide the ticket price\n",
        "3. Print your ticket price is xxx where xx is the amount.\n",
        "\n",
        "Extra challenge\n",
        "\n",
        "Add another condition: if today is wenesday, everyone get 100 off\n"
      ],
      "metadata": {
        "id": "ZnH-kH8iYgu-"
      }
    },
    {
      "cell_type": "code",
      "source": [
        "age = int(input(\"Enter your age: \"))\n",
        "if age <=12:\n",
        "     ticket_prize=300\n",
        "elif age <=17:\n",
        "    ticket_prize=500\n",
        "elif age <=59:\n",
        "   ticket_prize=800\n",
        "else:\n",
        "   ticket_prize=400\n",
        "\n",
        "print(\"Your age is:\", age, \" and your actual ticket price is \", ticket_prize)\n",
        "\n",
        "\n"
      ],
      "metadata": {
        "colab": {
          "base_uri": "https://localhost:8080/"
        },
        "id": "kDeyEcaIak7T",
        "outputId": "fd9c2975-65dd-466e-f0b8-47b6608980f4"
      },
      "execution_count": null,
      "outputs": [
        {
          "output_type": "stream",
          "name": "stdout",
          "text": [
            "Enter your age: 10\n",
            "Your age is: 10  and your actual ticket price is  300\n"
          ]
        }
      ]
    },
    {
      "cell_type": "markdown",
      "source": [
        "# Extra Discount on Wednesday"
      ],
      "metadata": {
        "id": "_9qae3YeN1Dh"
      }
    },
    {
      "cell_type": "code",
      "source": [
        "day = input(\"Enter the today's day: \")\n",
        "if day == \"Wednesday\":\n",
        "  ticket_prize -=100\n",
        "  ticket_prize = ticket_prize\n",
        "print(f\"\\n Age: {age}\")\n",
        "print(f\"The day you enter is: {day}\")\n",
        "print(f\"Congratulation your final ticket prize after discount is  : BTN {ticket_prize}\")"
      ],
      "metadata": {
        "colab": {
          "base_uri": "https://localhost:8080/"
        },
        "id": "ejMf1ZEXKqLX",
        "outputId": "ec810322-8ec4-428f-e38e-f1e24f4e020b"
      },
      "execution_count": null,
      "outputs": [
        {
          "output_type": "stream",
          "name": "stdout",
          "text": [
            "Enter the today's day: Wednesday\n",
            "\n",
            " Age: 10\n",
            "The day you enter is: Wednesday\n",
            "Congratulation your final ticket prize after discount is  : BTN 200\n"
          ]
        }
      ]
    },
    {
      "cell_type": "markdown",
      "source": [
        "Assignment 2:\n",
        "Write a program that:\n",
        "1. Pick a secret number\n",
        "2. Ask the user to guess the number\n",
        "3. keep asking until the user guess correctly (using while loop)\n",
        "4. print Congrulations! You guess correctly"
      ],
      "metadata": {
        "id": "lYJ5D8lWoAZG"
      }
    },
    {
      "cell_type": "code",
      "source": [
        "secret_number=12\n",
        "guess_number= None\n",
        "while guess_number!=secret_number:\n",
        "  guess_number= int(input(\"Guess the secret number: \"))\n",
        "  if guess_number < secret_number:\n",
        "    print(\"The guess number is too low, try again: \")\n",
        "  elif guess_number > secret_number:\n",
        "    print(\"The guess number is too high, try again: \")\n",
        "  else:\n",
        "    print(\"Congratulation, your guess number is perfect\")\n",
        "\n",
        "\n"
      ],
      "metadata": {
        "colab": {
          "base_uri": "https://localhost:8080/"
        },
        "id": "uokEF4zuoiMj",
        "outputId": "4599c50e-5f69-431f-ce0f-112a636e9baf"
      },
      "execution_count": null,
      "outputs": [
        {
          "output_type": "stream",
          "name": "stdout",
          "text": [
            "Guess the secret number: 8\n",
            "The guess number is too low, try again: \n",
            "Guess the secret number: 9\n",
            "The guess number is too low, try again: \n",
            "Guess the secret number: 10\n",
            "The guess number is too low, try again: \n",
            "Guess the secret number: 11\n",
            "The guess number is too low, try again: \n",
            "Guess the secret number: 13\n",
            "The guess number is too high, try again: \n",
            "Guess the secret number: 14\n",
            "The guess number is too high, try again: \n",
            "Guess the secret number: 12\n",
            "Congratulation, your guess number is perfect\n"
          ]
        }
      ]
    },
    {
      "cell_type": "markdown",
      "source": [
        "Assignment 3:\n",
        "Go and reserach and practice how to use these functions\n",
        "1. keyword argument\n",
        "2. Variables number of agurments\n",
        "3. *args and *kwargs"
      ],
      "metadata": {
        "id": "qPFT1M9PqvbW"
      }
    },
    {
      "cell_type": "markdown",
      "source": [
        "1. Keyword argument:\n",
        "*   its way to pass the argument to a function by clearly mentioning the   parameter and its vlaue\n",
        "*   Sequence or order  is not necessary\n",
        "Example:\n",
        "def car_info(name = Celerio, model=2000):\n",
        "  car_info()"
      ],
      "metadata": {
        "id": "LlDNVERVKHN2"
      }
    },
    {
      "cell_type": "code",
      "source": [
        "def car_info(name = \"Celerio\", model= 2000):\n",
        "  print(f\" {name}, {model}\")\n",
        "car_info()"
      ],
      "metadata": {
        "id": "8wm2JiE0w2L-",
        "colab": {
          "base_uri": "https://localhost:8080/"
        },
        "outputId": "a038ceda-4bd3-4bf9-acc4-2d4d5d1f7828"
      },
      "execution_count": null,
      "outputs": [
        {
          "output_type": "stream",
          "name": "stdout",
          "text": [
            " Celerio, 2000\n"
          ]
        }
      ]
    },
    {
      "cell_type": "markdown",
      "source": [
        "2. Variables number of arguments\n",
        "*   It will allow  to pass the  multiple argument in function\n",
        "*   This will help when we are not sure about how many arguments need to be pass\n",
        "*   Python provides two way to handle this *args and *Kwargs"
      ],
      "metadata": {
        "id": "GDwEWiXqNqLx"
      }
    },
    {
      "cell_type": "markdown",
      "source": [
        "3. *args and *kwargs\n",
        "\n",
        "*args\n",
        "\n",
        "1.   *args stands for arguments\n",
        "2.   it main function is to pass variable number of positional arguments\n",
        "3.   data type inside function called tuple\n",
        "\n",
        "*kwargs\n",
        "1.   *kargs stands for keyword arguments\n",
        "2.   it main function is to pass variable number of keyword arguments\n",
        "3.   data type inside function called dictionary\n",
        "\n"
      ],
      "metadata": {
        "id": "ZyaSQA-tR2LS"
      }
    },
    {
      "cell_type": "markdown",
      "source": [
        "Assignment 4: Student Grade calculator\n",
        "Write a program that will:\n",
        "1. Define a function called calculate_grade(marks) that:\n",
        "*   90-100 grade A\n",
        "*   80 -89 grade B\n",
        "*   70-79 grade C\n",
        "*   60 -69 grade D\n",
        "*   below 60 failed\n",
        "2. Ask the user to enter their marks\n",
        "3. Call a function and print your grade is X\n",
        "\n",
        "\n",
        "\n",
        "\n",
        "\n"
      ],
      "metadata": {
        "id": "YbZQP8rPw3K5"
      }
    },
    {
      "cell_type": "code",
      "source": [
        "def calculate_grade():\n",
        "    marks = int(input(\"Enter your marks: \"))\n",
        "    if marks >= 90:\n",
        "        print (\"Your grade is A\")\n",
        "    elif marks >=89:\n",
        "       print(\"Your grade is B\")\n",
        "    elif marks >=79:\n",
        "      print(\"your grade is C\")\n",
        "    elif marks >=69:\n",
        "      print(\"Your grade is D\")\n",
        "    else:\n",
        "      print(\"You are failed, please study hard\")\n",
        "\n",
        "calculate_grade ()"
      ],
      "metadata": {
        "colab": {
          "base_uri": "https://localhost:8080/"
        },
        "id": "ZQhlhdwyx-My",
        "outputId": "dc9e7e6c-900a-4b65-d601-8b07d72f44ec"
      },
      "execution_count": null,
      "outputs": [
        {
          "output_type": "stream",
          "name": "stdout",
          "text": [
            "Enter your marks: 69\n",
            "Your grade is D\n"
          ]
        }
      ]
    }
  ]
}