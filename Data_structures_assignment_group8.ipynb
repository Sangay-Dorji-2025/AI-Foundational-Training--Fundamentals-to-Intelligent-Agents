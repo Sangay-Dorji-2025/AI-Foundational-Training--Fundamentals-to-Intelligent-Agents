{
  "nbformat": 4,
  "nbformat_minor": 0,
  "metadata": {
    "colab": {
      "provenance": []
    },
    "kernelspec": {
      "name": "python3",
      "display_name": "Python 3"
    },
    "language_info": {
      "name": "python"
    }
  },
  "cells": [
    {
      "cell_type": "code",
      "execution_count": null,
      "metadata": {
        "id": "VuOz5z5p3Uqy"
      },
      "outputs": [],
      "source": []
    },
    {
      "cell_type": "markdown",
      "source": [
        "## 01-Python Data structure Assignment 1 Part 1 Character_Profile (Dictionaries)"
      ],
      "metadata": {
        "id": "gfybOysFvPg2"
      }
    },
    {
      "cell_type": "markdown",
      "source": [
        "# Task a: Creating dictionary called \"character_profile\""
      ],
      "metadata": {
        "id": "mnIsxE5y2mgv"
      }
    },
    {
      "cell_type": "code",
      "source": [
        "character_profile = {\n",
        "    \"Name\": \"Alistair the Brave\",\n",
        "    \"Level\" : 1,\n",
        "    \"Health\" :100,\n",
        "    \"Mana\": 50,\n",
        "    \"Gold\":50.75,\n",
        "    \"is_alive\": True\n",
        "    }"
      ],
      "metadata": {
        "collapsed": true,
        "id": "BLzBHWPewncH"
      },
      "execution_count": null,
      "outputs": []
    },
    {
      "cell_type": "markdown",
      "source": [
        "# Task b: Printing Character profile dictionary"
      ],
      "metadata": {
        "id": "wGtV7brM2QU6"
      }
    },
    {
      "cell_type": "code",
      "source": [
        "print (character_profile)"
      ],
      "metadata": {
        "colab": {
          "base_uri": "https://localhost:8080/"
        },
        "id": "x0M_5AHZw_6V",
        "outputId": "e11f68fa-34b4-48aa-c597-d649d3455445"
      },
      "execution_count": null,
      "outputs": [
        {
          "output_type": "stream",
          "name": "stdout",
          "text": [
            "{'Name': 'Alistair the Brave', 'Level': 1, 'Health': 100, 'Mana': 50, 'Gold': 50.75, 'is_alive': True}\n"
          ]
        }
      ]
    },
    {
      "cell_type": "markdown",
      "source": [
        "# Task c: printing Name and level of dic character_profile"
      ],
      "metadata": {
        "id": "KvD-ZAzR2XSA"
      }
    },
    {
      "cell_type": "code",
      "source": [],
      "metadata": {
        "id": "Xpyl1YzuGUle"
      },
      "execution_count": null,
      "outputs": []
    },
    {
      "cell_type": "code",
      "source": [
        "print(character_profile[\"Name\"],  character_profile[\"Level\"])"
      ],
      "metadata": {
        "colab": {
          "base_uri": "https://localhost:8080/"
        },
        "id": "O_eYnE9607L9",
        "outputId": "6cbe3b77-7229-4ef5-b8de-68d01c3aecb7"
      },
      "execution_count": null,
      "outputs": [
        {
          "output_type": "stream",
          "name": "stdout",
          "text": [
            "Alistair the Brave 1\n"
          ]
        }
      ]
    },
    {
      "cell_type": "markdown",
      "source": [
        "# Task d: updating health to vlaue 85"
      ],
      "metadata": {
        "id": "7Mr7dXGw4OkQ"
      }
    },
    {
      "cell_type": "code",
      "source": [
        "character_profile.update({\"Health\": 85})\n",
        "print(character_profile)"
      ],
      "metadata": {
        "colab": {
          "base_uri": "https://localhost:8080/"
        },
        "id": "eBNqycSN4Z4X",
        "outputId": "9ecf974e-8c1d-4cac-8212-f2a4a2e40ee1"
      },
      "execution_count": null,
      "outputs": [
        {
          "output_type": "stream",
          "name": "stdout",
          "text": [
            "{'Name': 'Alistair the Brave', 'Level': 1, 'Health': 85, 'Mana': 50, 'Gold': 50.75, 'is_alive': True}\n"
          ]
        }
      ]
    },
    {
      "cell_type": "markdown",
      "source": [
        "#Task e: Adding key-value with experience 0"
      ],
      "metadata": {
        "id": "ZgAezwdB5Sz4"
      }
    },
    {
      "cell_type": "code",
      "source": [
        "character_profile[\"Experience\"]=0\n",
        "print(character_profile)\n",
        "\n"
      ],
      "metadata": {
        "colab": {
          "base_uri": "https://localhost:8080/"
        },
        "id": "nRU9i-wc5bYE",
        "outputId": "fa0728d0-1644-473e-a375-48ece92430a8"
      },
      "execution_count": null,
      "outputs": [
        {
          "output_type": "stream",
          "name": "stdout",
          "text": [
            "{'Name': 'Alistair the Brave', 'Level': 1, 'Health': 85, 'Mana': 50, 'Gold': 50.75, 'is_alive': True, 'Experience': 0}\n"
          ]
        }
      ]
    },
    {
      "cell_type": "markdown",
      "source": [
        "# Task f: printing final dic called \"character-profile\""
      ],
      "metadata": {
        "id": "Hj3bPGQS6KpI"
      }
    },
    {
      "cell_type": "code",
      "source": [
        "character_profile"
      ],
      "metadata": {
        "colab": {
          "base_uri": "https://localhost:8080/"
        },
        "id": "K5WH5VBL6DTB",
        "outputId": "901771a9-c927-473f-8fdf-861f9097d57c"
      },
      "execution_count": null,
      "outputs": [
        {
          "output_type": "execute_result",
          "data": {
            "text/plain": [
              "{'Name': 'Alistair the Brave',\n",
              " 'Level': 1,\n",
              " 'Health': 85,\n",
              " 'Mana': 50,\n",
              " 'Gold': 50.75,\n",
              " 'is_alive': True,\n",
              " 'Experience': 0}"
            ]
          },
          "metadata": {},
          "execution_count": 89
        }
      ]
    },
    {
      "cell_type": "markdown",
      "source": [
        "# 01-Python Data structure Assignment 1 Part 2 Inventory System (Using Lists)"
      ],
      "metadata": {
        "id": "qjo10-F57Oej"
      }
    },
    {
      "cell_type": "markdown",
      "source": [
        "# Task a: Creating list"
      ],
      "metadata": {
        "id": "F5mUuwIm7xu8"
      }
    },
    {
      "cell_type": "markdown",
      "source": [],
      "metadata": {
        "id": "mKPd9JacGokE"
      }
    },
    {
      "cell_type": "code",
      "source": [
        "inventory=['sword', 'shield', 'health potion']\n",
        "inventory"
      ],
      "metadata": {
        "colab": {
          "base_uri": "https://localhost:8080/"
        },
        "id": "0GzpLJqV63Md",
        "outputId": "aea324fe-3f40-4499-a432-44b0ba454d84"
      },
      "execution_count": null,
      "outputs": [
        {
          "output_type": "execute_result",
          "data": {
            "text/plain": [
              "['sword', 'shield', 'health potion']"
            ]
          },
          "metadata": {},
          "execution_count": 44
        }
      ]
    },
    {
      "cell_type": "markdown",
      "source": [
        "# Task b: Adding new item to list"
      ],
      "metadata": {
        "id": "r3iul9wtGm_N"
      }
    },
    {
      "cell_type": "code",
      "source": [],
      "metadata": {
        "id": "pHMU_GIb72QZ"
      },
      "execution_count": null,
      "outputs": []
    },
    {
      "cell_type": "code",
      "source": [
        "inventory.append('mana potion')\n",
        "inventory"
      ],
      "metadata": {
        "colab": {
          "base_uri": "https://localhost:8080/"
        },
        "id": "PMwiBUNY7_T0",
        "outputId": "1b567f3e-2ccb-42ab-b074-e6d4329af295"
      },
      "execution_count": null,
      "outputs": [
        {
          "output_type": "execute_result",
          "data": {
            "text/plain": [
              "['sword', 'shield', 'health potion', 'mana potion']"
            ]
          },
          "metadata": {},
          "execution_count": 45
        }
      ]
    },
    {
      "cell_type": "markdown",
      "source": [
        "# Task c: removing existing item from lists"
      ],
      "metadata": {
        "id": "2ocfDGET8SQx"
      }
    },
    {
      "cell_type": "code",
      "source": [
        "inventory.remove('shield')\n",
        "inventory"
      ],
      "metadata": {
        "colab": {
          "base_uri": "https://localhost:8080/"
        },
        "id": "vSa4kaF38W3o",
        "outputId": "249c1ad8-8f01-45ac-d1e1-96ae1b73f2e3"
      },
      "execution_count": null,
      "outputs": [
        {
          "output_type": "execute_result",
          "data": {
            "text/plain": [
              "['sword', 'health potion', 'mana potion']"
            ]
          },
          "metadata": {},
          "execution_count": 46
        }
      ]
    },
    {
      "cell_type": "markdown",
      "source": [
        "# Task d:Use a for loop to iterate through the inventory list and print each item."
      ],
      "metadata": {
        "id": "NODcFYwI8rA6"
      }
    },
    {
      "cell_type": "code",
      "source": [
        "inventory= ['sword', 'health potion', 'mana potion']\n",
        "for items in inventory:\n",
        "    print(items)"
      ],
      "metadata": {
        "colab": {
          "base_uri": "https://localhost:8080/"
        },
        "id": "znVkVMl58zg7",
        "outputId": "a0e9fa4d-4087-45d4-fb24-82121a968044"
      },
      "execution_count": null,
      "outputs": [
        {
          "output_type": "stream",
          "name": "stdout",
          "text": [
            "sword\n",
            "health potion\n",
            "mana potion\n"
          ]
        }
      ]
    },
    {
      "cell_type": "markdown",
      "source": [
        "# 01-Python Data structure Assignment 1 Part 3 Character Stats (Using Tuples)"
      ],
      "metadata": {
        "id": "38QC892L-DAD"
      }
    },
    {
      "cell_type": "markdown",
      "source": [
        "# Task a: Creating tuple called \"base_stats\""
      ],
      "metadata": {
        "id": "1mg6LGVsJ-fV"
      }
    },
    {
      "cell_type": "code",
      "source": [
        "base_stats = (\"strength\" , \"dexterity\" , \"intelligence\" , 10, 8, 12)\n",
        "base_stats"
      ],
      "metadata": {
        "colab": {
          "base_uri": "https://localhost:8080/"
        },
        "id": "THZtP34O-O51",
        "outputId": "02d151bb-d833-4943-962a-24fbd5d36fa0"
      },
      "execution_count": null,
      "outputs": [
        {
          "output_type": "execute_result",
          "data": {
            "text/plain": [
              "('strength', 'dexterity', 'intelligence', 10, 8, 12)"
            ]
          },
          "metadata": {},
          "execution_count": 71
        }
      ]
    },
    {
      "cell_type": "markdown",
      "source": [
        "# Task b: Access and print the value of intelligence from the base_stats tuple"
      ],
      "metadata": {
        "id": "C7_BH8SZKXi6"
      }
    },
    {
      "cell_type": "code",
      "source": [
        "print(base_stats[2])"
      ],
      "metadata": {
        "colab": {
          "base_uri": "https://localhost:8080/"
        },
        "id": "d2cZEeD6_T_w",
        "outputId": "6cacf780-82d3-472f-bfc3-0e24cec8a4ee"
      },
      "execution_count": null,
      "outputs": [
        {
          "output_type": "stream",
          "name": "stdout",
          "text": [
            "intelligence\n"
          ]
        }
      ]
    },
    {
      "cell_type": "markdown",
      "source": [
        "# Task c: Challenge: Try to change one of the values in the tuple."
      ],
      "metadata": {
        "id": "9X57-omrLAPJ"
      }
    },
    {
      "cell_type": "code",
      "source": [
        "base_stats.add(\"13\")"
      ],
      "metadata": {
        "colab": {
          "base_uri": "https://localhost:8080/",
          "height": 141
        },
        "id": "DOMKvcuTLFLG",
        "outputId": "4b7cb457-62a9-44fb-98a1-53147656eca9"
      },
      "execution_count": null,
      "outputs": [
        {
          "output_type": "error",
          "ename": "AttributeError",
          "evalue": "'tuple' object has no attribute 'add'",
          "traceback": [
            "\u001b[0;31m---------------------------------------------------------------------------\u001b[0m",
            "\u001b[0;31mAttributeError\u001b[0m                            Traceback (most recent call last)",
            "\u001b[0;32m/tmp/ipython-input-3132931582.py\u001b[0m in \u001b[0;36m<cell line: 0>\u001b[0;34m()\u001b[0m\n\u001b[0;32m----> 1\u001b[0;31m \u001b[0mbase_stats\u001b[0m\u001b[0;34m.\u001b[0m\u001b[0madd\u001b[0m\u001b[0;34m(\u001b[0m\u001b[0;34m\"13\"\u001b[0m\u001b[0;34m)\u001b[0m\u001b[0;34m\u001b[0m\u001b[0;34m\u001b[0m\u001b[0m\n\u001b[0m",
            "\u001b[0;31mAttributeError\u001b[0m: 'tuple' object has no attribute 'add'"
          ]
        }
      ]
    },
    {
      "cell_type": "markdown",
      "source": [
        " We tried using operation call append and add but above errors are displaying. Because Tuple is immutable and we can not change any value in tuples once its set."
      ],
      "metadata": {
        "id": "gM-QSubfL3NM"
      }
    },
    {
      "cell_type": "markdown",
      "source": [
        "# 01-Python Data structure Assignment 1 Part 4: Quest Log (Using Sets)"
      ],
      "metadata": {
        "id": "yxo2CBrbMjdf"
      }
    },
    {
      "cell_type": "markdown",
      "source": [
        "# Task a: Creating set called \"quest_log\""
      ],
      "metadata": {
        "id": "bjGwkRwXNQB5"
      }
    },
    {
      "cell_type": "code",
      "source": [
        "quest_log = {'Defeat the Goblin King', 'Find the Lost Amulet'}\n",
        "quest_log"
      ],
      "metadata": {
        "colab": {
          "base_uri": "https://localhost:8080/"
        },
        "id": "e3qD31gF_T7a",
        "outputId": "bf4d74e1-fb69-411c-9dc5-a1af3f3cee65"
      },
      "execution_count": null,
      "outputs": [
        {
          "output_type": "execute_result",
          "data": {
            "text/plain": [
              "{'Defeat the Goblin King', 'Find the Lost Amulet'}"
            ]
          },
          "metadata": {},
          "execution_count": 81
        }
      ]
    },
    {
      "cell_type": "markdown",
      "source": [
        "# Task b: Add a new quest to the log"
      ],
      "metadata": {
        "id": "tTZ7i6y7Nb3w"
      }
    },
    {
      "cell_type": "code",
      "source": [
        "quest_log.add('Deliver the Old Scroll')\n",
        "quest_log"
      ],
      "metadata": {
        "colab": {
          "base_uri": "https://localhost:8080/"
        },
        "id": "OVue3qyzNlAj",
        "outputId": "436940d5-4616-4e04-f252-c9f8ace53bc3"
      },
      "execution_count": null,
      "outputs": [
        {
          "output_type": "execute_result",
          "data": {
            "text/plain": [
              "{'Defeat the Goblin King', 'Deliver the Old Scroll', 'Find the Lost Amulet'}"
            ]
          },
          "metadata": {},
          "execution_count": 82
        }
      ]
    },
    {
      "cell_type": "markdown",
      "source": [
        "# Task c: Add a quest that is already in the set. Notice how the set handles duplicates."
      ],
      "metadata": {
        "id": "IjKBknf5Z6JL"
      }
    },
    {
      "cell_type": "code",
      "source": [
        "quest_log.add('Deliver the Old Scroll')\n",
        "quest_log"
      ],
      "metadata": {
        "colab": {
          "base_uri": "https://localhost:8080/"
        },
        "id": "ZSXb_ZLBZ9Gz",
        "outputId": "a528dcd6-74c3-4966-89ae-4ebdd25e5b67"
      },
      "execution_count": null,
      "outputs": [
        {
          "output_type": "execute_result",
          "data": {
            "text/plain": [
              "{'Defeat the Goblin King', 'Deliver the Old Scroll', 'Find the Lost Amulet'}"
            ]
          },
          "metadata": {},
          "execution_count": 84
        }
      ]
    },
    {
      "cell_type": "markdown",
      "source": [
        "# Remarks showing the duplicate once only"
      ],
      "metadata": {
        "id": "KSCOtm0icBna"
      }
    },
    {
      "cell_type": "markdown",
      "source": [
        "# Task d: Remove a completed quest from the log ('Find the Lost Amulet')."
      ],
      "metadata": {
        "id": "7wGaaEAZcHUY"
      }
    },
    {
      "cell_type": "code",
      "source": [
        "quest_log.remove('Find the Lost Amulet')\n",
        "quest_log"
      ],
      "metadata": {
        "colab": {
          "base_uri": "https://localhost:8080/"
        },
        "id": "ZBhOtPBAcXlH",
        "outputId": "7467d729-7c1b-494b-aad2-c0d72aabf645"
      },
      "execution_count": null,
      "outputs": [
        {
          "output_type": "execute_result",
          "data": {
            "text/plain": [
              "{'Defeat the Goblin King', 'Deliver the Old Scroll'}"
            ]
          },
          "metadata": {},
          "execution_count": 85
        }
      ]
    },
    {
      "cell_type": "markdown",
      "source": [
        "# 01-Python Data structure Assignment 1 Part 5: Putting it all together"
      ],
      "metadata": {
        "id": "40Mz019XcqRJ"
      }
    },
    {
      "cell_type": "markdown",
      "source": [
        "# Task a: Create a dictionary named character_sheet and setting the vlaue key of Profile, Inventory, stats and quests to make it nested under dictionary called character_sheet"
      ],
      "metadata": {
        "id": "CRaPJBfgc18h"
      }
    },
    {
      "cell_type": "code",
      "source": [
        "character_sheet = {\n",
        "   'Profile': character_profile,\n",
        "   'Inventory': inventory,\n",
        "   'Stats': base_stats,\n",
        "   'quests': quest_log\n",
        "}\n",
        "\n",
        "print(character_sheet)\n",
        "\n"
      ],
      "metadata": {
        "colab": {
          "base_uri": "https://localhost:8080/"
        },
        "id": "naqNuLXvc540",
        "outputId": "5ea1e168-b5cd-4f45-9ac7-e8cf73195015"
      },
      "execution_count": null,
      "outputs": [
        {
          "output_type": "stream",
          "name": "stdout",
          "text": [
            "{'Profile': {'Name': 'Alistair the Brave', 'Level': 1, 'Health': 85, 'Mana': 50, 'Gold': 50.75, 'is_alive': True, 'Experience': 0}, 'Inventory': ['sword', 'health potion', 'mana potion'], 'Stats': ('strength', 'dexterity', 'intelligence', 10, 8, 12), 'quests': {'Deliver the Old Scroll', 'Defeat the Goblin King'}}\n"
          ]
        }
      ]
    }
  ]
}